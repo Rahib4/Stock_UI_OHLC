{
 "cells": [
  {
   "cell_type": "code",
   "execution_count": 106,
   "metadata": {},
   "outputs": [],
   "source": [
    "from smartapi import SmartConnect # for connecting with api\n",
    "from smartapi import SmartWebSocket #Smart Web socket for streaming data\n",
    "import pyotp # for generating an otp\n",
    "import pandas as pd # for data processing"
   ]
  },
  {
   "cell_type": "code",
   "execution_count": 107,
   "metadata": {},
   "outputs": [],
   "source": [
    "#create object of call\n",
    "obj=SmartConnect(api_key=\"FKs5ltLC\")  # This is API KEY from https://smartapi.angelbroking.com/apps\n",
    "                #optional\n",
    "                #access_token = \"your access token\",\n",
    "                #refresh_token = \"your refresh_token\")"
   ]
  },
  {
   "cell_type": "code",
   "execution_count": 108,
   "metadata": {},
   "outputs": [],
   "source": [
    "# For generating TOTP\n",
    "totp = pyotp.TOTP(\"KSCSZZBFKOMABF2UVXANGOEHUA\")  # This is QR KEY Code\n",
    "totp_code = totp.now()"
   ]
  },
  {
   "cell_type": "code",
   "execution_count": 109,
   "metadata": {},
   "outputs": [
    {
     "data": {
      "text/plain": [
       "'553666'"
      ]
     },
     "execution_count": 109,
     "metadata": {},
     "output_type": "execute_result"
    }
   ],
   "source": [
    "totp_code"
   ]
  },
  {
   "cell_type": "code",
   "execution_count": 110,
   "metadata": {},
   "outputs": [],
   "source": [
    "# Login API\n",
    "Client_Code= \"P588311\" \n",
    "Client_Password = \"Iamde3p$\"\n",
    "data = obj.generateSession(Client_Code, Client_Password, totp_code)  # This is Client Code, Client Password and TOTP Code\n",
    "FEED_TOKEN = obj.getfeedToken()\n",
    "refreshToken= data['data']['refreshToken']\n",
    "CLIENT_CODE = Client_Code # This is Client_Code"
   ]
  },
  {
   "cell_type": "code",
   "execution_count": 111,
   "metadata": {},
   "outputs": [],
   "source": [
    "#fetch User Profile\n",
    "\n",
    "userProfile= obj.getProfile(refreshToken)"
   ]
  },
  {
   "cell_type": "code",
   "execution_count": 112,
   "metadata": {},
   "outputs": [],
   "source": [
    "historicParam={\n",
    "\"exchange\": \"NSE\",\n",
    "\"symboltoken\": \"3045\",\n",
    "\"interval\": \"ONE_MINUTE\",\n",
    "\"fromdate\": \"2022-10-12 09:00\", \n",
    "\"todate\": \"2022-10-12 09:16\"\n",
    "}\n",
    "data1 = obj.getCandleData(historicParam)"
   ]
  },
  {
   "cell_type": "code",
   "execution_count": 113,
   "metadata": {},
   "outputs": [
    {
     "data": {
      "text/plain": [
       "{'status': True,\n",
       " 'message': 'SUCCESS',\n",
       " 'errorcode': '',\n",
       " 'data': [['2022-10-12T09:15:00+05:30', 530.0, 530.15, 527.8, 527.8, 149350],\n",
       "  ['2022-10-12T09:16:00+05:30', 528.0, 528.0, 526.05, 526.95, 90500]]}"
      ]
     },
     "execution_count": 113,
     "metadata": {},
     "output_type": "execute_result"
    }
   ],
   "source": [
    "data1"
   ]
  },
  {
   "cell_type": "code",
   "execution_count": 114,
   "metadata": {},
   "outputs": [],
   "source": [
    "data_output=data1['data']"
   ]
  },
  {
   "cell_type": "code",
   "execution_count": 115,
   "metadata": {},
   "outputs": [],
   "source": [
    "df_dataoutput=pd.DataFrame(data_output)"
   ]
  },
  {
   "cell_type": "code",
   "execution_count": 116,
   "metadata": {},
   "outputs": [],
   "source": [
    "#reset index \n",
    "df_dataoutput.reset_index(drop=True, inplace=True)"
   ]
  },
  {
   "cell_type": "code",
   "execution_count": 117,
   "metadata": {},
   "outputs": [
    {
     "name": "stdout",
     "output_type": "stream",
     "text": [
      "<bound method NDFrame.head of                     DateTime  Value1  Value2  Value3  Value4  Value5\n",
      "0  2022-10-12T09:15:00+05:30   530.0  530.15  527.80  527.80  149350\n",
      "1  2022-10-12T09:16:00+05:30   528.0  528.00  526.05  526.95   90500>\n"
     ]
    }
   ],
   "source": [
    "#renmaing the columns of the dataframe\n",
    "df_dataoutput.set_axis(['DateTime', 'Value1','Value2','Value3','Value4','Value5'], axis='columns', inplace=True)\n",
    "print (df_dataoutput.head)"
   ]
  },
  {
   "cell_type": "code",
   "execution_count": 118,
   "metadata": {},
   "outputs": [],
   "source": [
    "# Token List: For NIFTY & BANKNIFTY Index, we need to append \"nse_cm\", For options, \"nse_cm\"\n",
    "token=\"nse_cm|26000&nse_cm|26009&nse_fo|48339&nse_fo|48337\" # NIFTY, BANKNIFTY and 2 NIFTY Options for Example."
   ]
  },
  {
   "cell_type": "code",
   "execution_count": 119,
   "metadata": {},
   "outputs": [],
   "source": [
    "# API Data Task mw is for market watch\n",
    "task = \"mw\"\n",
    "ss = SmartWebSocket(FEED_TOKEN, CLIENT_CODE)"
   ]
  },
  {
   "cell_type": "code",
   "execution_count": 120,
   "metadata": {},
   "outputs": [],
   "source": [
    "def on_message(ws, message):\n",
    "    print(\"Ticks: {}\".format(message))\n",
    "\n",
    "\n",
    "def on_open(ws):\n",
    "    print(\"on open\")\n",
    "    # ss.subscribe(task, token)\n",
    "    ss.subscribe(task, token)\n",
    "\n",
    "\n",
    "def on_error(ws, error):\n",
    "    print(error)\n",
    "\n",
    "\n",
    "def on_close(ws):\n",
    "    print(\"Close\")"
   ]
  },
  {
   "cell_type": "code",
   "execution_count": null,
   "metadata": {},
   "outputs": [],
   "source": [
    "# Assign the callbacks.\n",
    "#ss._on_open = on_open\n",
    "#ss._on_message = on_message\n",
    "#ss._on_error = on_error\n",
    "#ss._on_close = on_close"
   ]
  },
  {
   "cell_type": "code",
   "execution_count": 121,
   "metadata": {},
   "outputs": [
    {
     "name": "stdout",
     "output_type": "stream",
     "text": [
      "__on_open################\n",
      "{'task': 'cn', 'channel': 'NONLM', 'token': '0887003312', 'user': 'P588311', 'acctid': 'P588311'}\n",
      "2022-11-12 16:00:29.622870 : Start task in the background\n",
      "{'task': 'hb', 'channel': '', 'token': '0887003312', 'user': 'P588311', 'acctid': 'P588311'}\n",
      "Error info: \n",
      "Error info: SmartWebSocket.__on_close() takes 2 positional arguments but 4 were given\n"
     ]
    }
   ],
   "source": [
    "ss.connect()"
   ]
  }
 ],
 "metadata": {
  "kernelspec": {
   "display_name": "Python 3.10.1 64-bit",
   "language": "python",
   "name": "python3"
  },
  "language_info": {
   "codemirror_mode": {
    "name": "ipython",
    "version": 3
   },
   "file_extension": ".py",
   "mimetype": "text/x-python",
   "name": "python",
   "nbconvert_exporter": "python",
   "pygments_lexer": "ipython3",
   "version": "3.10.1"
  },
  "orig_nbformat": 4,
  "vscode": {
   "interpreter": {
    "hash": "a2075fd072a7d4fc20f5d1794ecff70bc5f099acb08685c556f22b90ea3d98a4"
   }
  }
 },
 "nbformat": 4,
 "nbformat_minor": 2
}
